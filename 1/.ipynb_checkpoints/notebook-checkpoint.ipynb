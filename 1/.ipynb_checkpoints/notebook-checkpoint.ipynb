{
 "cells": [
  {
   "cell_type": "markdown",
   "id": "fed57572",
   "metadata": {},
   "source": [
    "<h1 align=center style=\"line-height:200%;font-family:vazir;color:#0099cc\">\n",
    "<font face=\"vazir\" color=\"#0099cc\">\n",
    "تحلیل آماری داده‌ها\n",
    "</font>\n",
    "</h1>"
   ]
  },
  {
   "cell_type": "markdown",
   "id": "02e28657",
   "metadata": {},
   "source": [
    "<p dir=\"rtl\" style=\"direction: rtl; text-align: justify; line-height: 2; font-family: Vazir, sans-serif; font-size: medium;\">\n",
    "  <strong>خروجی نهایی</strong> باید شامل ۳۲ مقدار به شکل یک فایل \n",
    "  <code>submission.csv</code> با ۶ رقم اعشار باشد.\n",
    "  در هر بخش مقدار(های) لازم را در متغیرهای \n",
    "  <code>value_01</code> تا <code>value_32</code> قرار دهید. \n",
    "  در انتها این مقادیر استخراج و ذخیره می‌شوند.\n",
    "</p>\n",
    "\n",
    "<blockquote dir=\"rtl\" style=\"direction: rtl; text-align: justify; font-family: Vazir, sans-serif; font-size: medium; line-height: 2;\">\n",
    "  <strong>یادآوری:</strong> برای تمام محاسبات «وینسور» (Winsorization) روی هر سنسور به صورت مستقل انجام می‌دهیم:  \n",
    "  برای هر سنسور صدک‌های ۱٪ و ۹۹٪ را با \n",
    "  <code>interpolation='linear'</code> محاسبه کرده و سپس با \n",
    "  <code>clip</code> مقادیر را به این بازه محدود می‌کنیم.  \n",
    "  مگر جایی که صراحتاً گفته شده «خام/بدون وینسور». همچنین برای \n",
    "  <code>std</code> از نمونه‌ای (<code>ddof=1</code>) استفاده کنید.\n",
    "</blockquote>\n"
   ]
  },
  {
   "cell_type": "markdown",
   "id": "dfdfd408",
   "metadata": {},
   "source": [
    "<h1 dir=\"rtl\" style=\"direction: rtl; text-align: right; font-family: Vazir, sans-serif; font-size: x-large; line-height: 2;\">\n",
    "  <font face=\"vazir\" color=\"#cc0000ff\">\n",
    "\n",
    "  بارگذاری داده و آماده‌سازی\n",
    "     </font>\n",
    "\n",
    "</h1>\n",
    "\n",
    "<ul dir=\"rtl\" style=\"direction: rtl; text-align: justify; font-family: Vazir, sans-serif; font-size: medium; line-height: 2;\">\n",
    "  <li>خواندن <code>sample.csv</code></li>\n",
    "  <li>تبدیل <code>timestamp</code> به نوع زمانی</li>\n",
    "  <li>تعریف تابع وینسور و نگهداشت نسخهٔ وینسورشدهٔ هر سنسور</li>\n",
    "</ul>\n"
   ]
  },
  {
   "cell_type": "code",
   "execution_count": null,
   "id": "a7551a0a",
   "metadata": {},
   "outputs": [],
   "source": [
    "import pandas as pd\n",
    "import numpy as np\n",
    "\n",
    "df = pd.read_csv('sample.csv')\n",
    "df['timestamp'] = pd.to_datetime(df['timestamp'], errors='coerce')\n",
    "\n",
    "SENSORS = ['Temperature_C','Pressure_kPa','VibAccel_m_s2','VibVelocity_mm_s']\n",
    "\n",
    "def winsorize(s: pd.Series) -> pd.Series:\n",
    "    q1 = s.quantile(0.01, interpolation='linear')\n",
    "    q99 = s.quantile(0.99, interpolation='linear')\n",
    "    return s.clip(lower=q1, upper=q99)\n",
    "\n",
    "wdf = df.copy()\n",
    "for c in SENSORS:\n",
    "    wdf[c] = winsorize(wdf[c])\n"
   ]
  },
  {
   "cell_type": "markdown",
   "id": "ab3e3b48",
   "metadata": {},
   "source": [
    "<h1 dir=\"rtl\" style=\"direction: rtl; text-align: right; font-family: Vazir, sans-serif; font-size: x-large; line-height: 2;\">\n",
    "  <font face=\"vazir\" color=\"#cc0000ff\">\n",
    "     مقداردهی اولیهٔ متغیرهای پاسخ\n",
    "  </font>\n",
    "</h1>\n",
    "\n",
    "<p dir=\"rtl\" style=\"direction: rtl; text-align: justify; font-family: Vazir, sans-serif; font-size: medium; line-height: 2;\">\n",
    "  در هر بخش متغیرهای <code>value_XX</code> را <strong>جایگزین/محاسبه</strong> کنید.\n",
    "</p>\n"
   ]
  },
  {
   "cell_type": "code",
   "execution_count": null,
   "id": "287f1b25",
   "metadata": {},
   "outputs": [],
   "source": [
    "value_01 = None\n",
    "value_02 = None\n",
    "value_03 = None\n",
    "value_04 = None\n",
    "value_05 = None\n",
    "value_06 = None\n",
    "value_07 = None\n",
    "value_08 = None\n",
    "value_09 = None\n",
    "value_10 = None\n",
    "value_11 = None\n",
    "value_12 = None\n",
    "value_13 = None\n",
    "value_14 = None\n",
    "value_15 = None\n",
    "value_16 = None\n",
    "value_17 = None\n",
    "value_18 = None\n",
    "value_19 = None\n",
    "value_20 = None\n",
    "value_21 = None\n",
    "value_22 = None\n",
    "value_23 = None\n",
    "value_24 = None\n",
    "value_25 = None\n",
    "value_26 = None\n",
    "value_27 = None\n",
    "value_28 = None\n",
    "value_29 = None\n",
    "value_30 = None\n",
    "value_31 = None\n",
    "value_32 = None"
   ]
  },
  {
   "cell_type": "markdown",
   "id": "b2bfcf93",
   "metadata": {},
   "source": [
    "<h1 dir=\"rtl\" style=\"direction: rtl; text-align: right; font-family: Vazir, sans-serif; font-size: x-large; line-height: 2;\">\n",
    "  <font face=\"vazir\" color=\"#cc0000ff\">\n",
    "    میانگین و انحراف معیار (وینسورشده)\n",
    "  </font>\n",
    "</h1>\n",
    "\n",
    "<ul dir=\"rtl\" style=\"direction: rtl; text-align: justify; font-family: Vazir, sans-serif; font-size: medium; line-height: 2;\">\n",
    "  <li>مقادیر <strong>۱–۴</strong>: میانگین هر سنسور (به ترتیب: دما، فشار، شتاب ارتعاش، سرعت ارتعاش)</li>\n",
    "  <li>مقادیر <strong>۵–۸</strong>: انحراف معیار نمونه‌ای (<code>ddof=1</code>) به همان ترتیب</li>\n",
    "</ul>\n"
   ]
  },
  {
   "cell_type": "code",
   "execution_count": null,
   "id": "1967fbe9",
   "metadata": {},
   "outputs": [],
   "source": [
    "# TODO: value_01 .. value_04 (means), value_05 .. value_08 (stds with ddof=1)"
   ]
  },
  {
   "cell_type": "markdown",
   "id": "6b7a73b2",
   "metadata": {},
   "source": [
    "<h1 dir=\"rtl\" style=\"direction: rtl; text-align: right; font-family: Vazir, sans-serif; font-size: x-large; line-height: 2;\">\n",
    "  <font face=\"vazir\" color=\"#cc0000ff\">\n",
    "     کمینه و بیشینهٔ خام (بدون وینسور)\n",
    "  </font>\n",
    "</h1>\n",
    "\n",
    "<ul dir=\"rtl\" style=\"direction: rtl; text-align: justify; font-family: Vazir, sans-serif; font-size: medium; line-height: 2;\">\n",
    "  <li>مقادیر <strong>۹–۱۶</strong>: به ترتیب <code>(min, max)</code> برای هر سنسور (دما، فشار، شتاب، سرعت)</li>\n",
    "</ul>\n"
   ]
  },
  {
   "cell_type": "code",
   "execution_count": null,
   "id": "70ed26c7",
   "metadata": {},
   "outputs": [],
   "source": [
    "# TODO: value_09 .. value_16"
   ]
  },
  {
   "cell_type": "markdown",
   "id": "54e237a4",
   "metadata": {},
   "source": [
    "<h1 dir=\"rtl\" style=\"direction: rtl; text-align: right; font-family: Vazir, sans-serif; font-size: x-large; line-height: 2;\">\n",
    "  <font face=\"vazir\" color=\"#cc0000ff\">\n",
    "    همبستگی پیرسون (وینسورشده، pairwise dropna)\n",
    "  </font>\n",
    "</h1>\n",
    "\n",
    "<p dir=\"rtl\" style=\"direction: rtl; text-align: justify; font-family: Vazir, sans-serif; font-size: medium; line-height: 2;\">\n",
    "  مقادیر <strong>۱۷–۲۲</strong>: به ترتیب جفت‌ها\n",
    "</p>\n",
    "\n",
    "<ol dir=\"rtl\" style=\"direction: rtl; text-align: justify; font-family: Vazir, sans-serif; font-size: medium; line-height: 2;\">\n",
    "  <li><code>(Temperature_C, Pressure_kPa)</code></li>\n",
    "  <li><code>(Temperature_C, VibAccel_m_s2)</code></li>\n",
    "  <li><code>(Temperature_C, VibVelocity_mm_s)</code></li>\n",
    "  <li><code>(Pressure_kPa, VibAccel_m_s2)</code></li>\n",
    "  <li><code>(Pressure_kPa, VibVelocity_mm_s)</code></li>\n",
    "  <li><code>(VibAccel_m_s2, VibVelocity_mm_s)</code></li>\n",
    "</ol>\n"
   ]
  },
  {
   "cell_type": "code",
   "execution_count": null,
   "id": "fa440aa4",
   "metadata": {},
   "outputs": [],
   "source": [
    "# TODO: value_17 .. value_22"
   ]
  },
  {
   "cell_type": "markdown",
   "id": "993bd71f",
   "metadata": {},
   "source": [
    "<h1 dir=\"rtl\" style=\"direction: rtl; text-align: right; font-family: Vazir, sans-serif; font-size: x-large; line-height: 2;\">\n",
    "  <font face=\"vazir\" color=\"#cc0000ff\">\n",
    "    میانهٔ هر سنسور (وینسورشده)\n",
    "  </font>\n",
    "</h1>\n",
    "\n",
    "<ul dir=\"rtl\" style=\"direction: rtl; text-align: justify; font-family: Vazir, sans-serif; font-size: medium; line-height: 2;\">\n",
    "  <li>مقادیر <strong>۲۳–۲۶</strong>: میانهٔ سنسورها به ترتیب استاندارد</li>\n",
    "</ul>\n"
   ]
  },
  {
   "cell_type": "code",
   "execution_count": null,
   "id": "ced9a593",
   "metadata": {},
   "outputs": [],
   "source": [
    "# TODO: value_23 .. value_26"
   ]
  },
  {
   "cell_type": "markdown",
   "id": "2e9aa0f2",
   "metadata": {},
   "source": [
    "<h1 dir=\"rtl\" style=\"direction: rtl; text-align: right; font-family: Vazir, sans-serif; font-size: x-large; line-height: 2;\">\n",
    "  <font face=\"vazir\" color=\"#cc0000ff\">\n",
    "    خودهمبستگی با وقفهٔ ۱ (lag=1) روی دادهٔ وینسورشده\n",
    "  </font>\n",
    "</h1>\n",
    "\n",
    "<ul dir=\"rtl\" style=\"direction: rtl; text-align: justify; font-family: Vazir, sans-serif; font-size: medium; line-height: 2;\">\n",
    "  <li>مقادیر <strong>۲۷–۳۰</strong>: به ترتیب برای سنسورها</li>\n",
    "</ul>\n"
   ]
  },
  {
   "cell_type": "code",
   "execution_count": null,
   "id": "cad9c677",
   "metadata": {},
   "outputs": [],
   "source": [
    "# TODO: value_27 .. value_30"
   ]
  },
  {
   "cell_type": "markdown",
   "id": "cd360a2e",
   "metadata": {},
   "source": [
    "<h1 dir=\"rtl\" style=\"direction: rtl; text-align: right; font-family: Vazir, sans-serif; font-size: x-large; line-height: 2;\">\n",
    "  <font face=\"vazir\" color=\"#cc0000ff\">\n",
    "   نرخ NaN و بازهٔ نمونه‌برداری\n",
    "  </font>\n",
    "</h1>\n",
    "\n",
    "<ul dir=\"rtl\" style=\"direction: rtl; text-align: justify; font-family: Vazir, sans-serif; font-size: medium; line-height: 2;\">\n",
    "  <li>مقدار <strong>۳۱</strong>: سهم ردیف‌هایی که <strong>حداقل یکی</strong> از چهار سنسورشان <code>NaN</code> دارد (روی دادهٔ خام)</li>\n",
    "  <li>مقدار <strong>۳۲</strong>: میانهٔ فاصلهٔ نمونه‌برداری (ثانیه) پس از مرتب‌سازی صعودی زمان‌ها</li>\n",
    "</ul>\n"
   ]
  },
  {
   "cell_type": "code",
   "execution_count": null,
   "id": "a8d2a0e8",
   "metadata": {},
   "outputs": [],
   "source": [
    "# TODO: value_31 .. value_32"
   ]
  },
  {
   "cell_type": "markdown",
   "id": "7f4b0542",
   "metadata": {},
   "source": [
    "<h2 dir=rtl align=right style=\"line-height:200%;font-family:vazir;color:#0099cc\">\n",
    "<font face=\"vazir\" color=\"#0099cc\">\n",
    "<b>سلول جواب‌ساز</b>\n",
    "</font>\n",
    "</h2>\n",
    "\n",
    "<p dir=rtl style=\"direction: rtl; text-align: justify; line-height:200%; font-family:vazir; font-size:medium\">\n",
    "<font face=\"vazir\" size=3>\n",
    "    برای ساخته‌شدن فایل <code>result.zip</code> سلول زیر را اجرا کنید. توجه داشته باشید که پیش از اجرای سلول زیر تغییرات اعمال شده در نت‌بوک را ذخیره کرده باشید (<code>ctrl+s</code>) در غیر این صورت، در پایان مسابقه نمره شما به صفر تغییر خواهد کرد.\n",
    "    <br>\n",
    "    همچنین اگر از کولب برای اجرای این فایل نوت‌بوک استفاده می‌کنید، قبل از ارسال فایل <code>result.zip</code>، آخرین نسخه‌ی نوت‌بوک خود را دانلود کرده و داخل فایل ارسالی قرار دهید.\n",
    "</font>"
   ]
  },
  {
   "cell_type": "code",
   "execution_count": null,
   "id": "56ad7878",
   "metadata": {},
   "outputs": [],
   "source": [
    "import zipfile\n",
    "import joblib\n",
    "import os\n",
    "\n",
    "if not os.path.exists(os.path.join(os.getcwd(), 'notebook.ipynb')):\n",
    "    %notebook -e notebook.ipynb\n",
    "\n",
    "def compress(file_names):\n",
    "    print(\"File Paths:\")\n",
    "    print(file_names)\n",
    "    compression = zipfile.ZIP_DEFLATED\n",
    "    with zipfile.ZipFile(\"result.zip\", mode=\"w\") as zf:\n",
    "        for file_name in file_names:\n",
    "            zf.write('./' + file_name, file_name, compress_type=compression)\n",
    "\n",
    "answers = [globals()[f'value_{i:02d}'] for i in range(1, 33)]\n",
    "s = pd.Series(answers, dtype='float64', name=\"prediction\")\n",
    "s.to_csv(\"submission.csv\", index=False, float_format=\"%.6f\")\n",
    "\n",
    "file_names = ['notebook.ipynb', 'submission.csv']\n",
    "compress(file_names)"
   ]
  },
  {
   "cell_type": "code",
   "execution_count": null,
   "id": "923f7cf3",
   "metadata": {},
   "outputs": [],
   "source": [
    "\n"
   ]
  }
 ],
 "metadata": {
  "kernelspec": {
   "display_name": "Python 3",
   "language": "python",
   "name": "python3"
  }
 },
 "nbformat": 4,
 "nbformat_minor": 5
}
